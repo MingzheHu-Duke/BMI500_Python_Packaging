{
  "nbformat": 4,
  "nbformat_minor": 0,
  "metadata": {
    "colab": {
      "name": "Building the Package.ipynb",
      "provenance": [],
      "authorship_tag": "ABX9TyOYHxOrsCtlhqGZox58gb05",
      "include_colab_link": true
    },
    "kernelspec": {
      "name": "python3",
      "display_name": "Python 3"
    },
    "language_info": {
      "name": "python"
    }
  },
  "cells": [
    {
      "cell_type": "markdown",
      "metadata": {
        "id": "view-in-github",
        "colab_type": "text"
      },
      "source": [
        "<a href=\"https://colab.research.google.com/github/MingzheHu-Duke/BMI500_Python_Packaging/blob/Mingzhe%2FNotebooks/Building_the_Package.ipynb\" target=\"_parent\"><img src=\"https://colab.research.google.com/assets/colab-badge.svg\" alt=\"Open In Colab\"/></a>"
      ]
    },
    {
      "cell_type": "code",
      "metadata": {
        "id": "d1UgXzFzIon2"
      },
      "source": [
        "import sklearn as sk\n",
        "import numpy as np\n",
        "import matplotlib.pyplot as plt"
      ],
      "execution_count": 1,
      "outputs": []
    },
    {
      "cell_type": "code",
      "metadata": {
        "id": "6Pq5zn4ZpfO2"
      },
      "source": [
        "from sklearn.datasets import load_digits\n",
        "from sklearn.preprocessing import scale\n",
        "\n",
        "digits = load_digits()\n",
        "data = scale(digits.data)"
      ],
      "execution_count": 6,
      "outputs": []
    },
    {
      "cell_type": "code",
      "metadata": {
        "colab": {
          "base_uri": "https://localhost:8080/",
          "height": 483
        },
        "id": "KK2TdbxdqMGO",
        "outputId": "ae918119-7cd4-4571-9b71-6ea46532505b"
      },
      "source": [
        "print(\"The shape of the data set: \", data.shape)\n",
        "print(\"The first data in the set: \", data[1])\n",
        "plt.imshow(digits.images[1], cmap=\"bone\")"
      ],
      "execution_count": 18,
      "outputs": [
        {
          "output_type": "stream",
          "name": "stdout",
          "text": [
            "The shape of the data set:  (1797, 64)\n",
            "The first data in the set:  [ 0.         -0.33501649 -1.09493684  0.03864775  0.26875116 -0.13801953\n",
            " -0.40972392 -0.12502292 -0.05907756 -0.62400926 -1.91557297 -0.24630352\n",
            "  1.19644995  0.13619465 -0.51499146 -0.13043338 -0.04462507 -0.72764628\n",
            " -1.2133854   1.38030848  1.44186017 -0.29155283 -0.54880546 -0.11422184\n",
            " -0.03337973  1.44018517  0.95451315  1.22058589  0.98740215 -0.94558832\n",
            " -0.62889588 -0.04723238  0.         -0.67237227 -1.05445197  1.10556952\n",
            "  0.96064411 -0.97870236 -0.82269451  0.         -0.06134367 -0.5312841\n",
            " -0.89983895  1.36217503  1.33078862 -0.39278683 -0.79827225 -0.08874162\n",
            " -0.03543326 -0.40357499 -1.15311752  1.23639392  1.24208282 -0.45750018\n",
            " -0.75743581 -0.20978513 -0.02359646 -0.29908135 -1.08938309 -0.24900951\n",
            "  0.84963214  0.54856067 -0.5056698  -0.19600752]\n"
          ]
        },
        {
          "output_type": "execute_result",
          "data": {
            "text/plain": [
              "<matplotlib.image.AxesImage at 0x7f3a78d26a90>"
            ]
          },
          "metadata": {},
          "execution_count": 18
        },
        {
          "output_type": "display_data",
          "data": {
            "image/png": "[encoded data removed]",
            "text/plain": [
              "<Figure size 432x288 with 1 Axes>"
            ]
          },
          "metadata": {
            "needs_background": "light"
          }
        }
      ]
    },
    {
      "cell_type": "code",
      "metadata": {
        "id": "PBVft0Y0r2lH"
      },
      "source": [
        "# Now let's visualize some of the images\n",
        "def print_digits(images, _labels, _num=10):\n",
        "  fig = plt.figure(figsize=(16, 16))\n",
        "  fig.subplots_adjust(left=0, right=1, bottom=0, top=1, hspace=0.05, wspace=0.05)\n",
        "  i = 0\n",
        "  while i < _num and i < images.shape[0]:\n",
        "    # plot the images in a matrix of 20x20\n",
        "    p = fig.add_subplot(20, 20, i + 1, xticks=[], yticks=[])\n",
        "    p.imshow(images[i], cmap=plt.cm.bone)\n",
        "    # label the image with the target value\n",
        "    p.text(0, 14, str(_labels[i]))\n",
        "    i = i + 1"
      ],
      "execution_count": 28,
      "outputs": []
    },
    {
      "cell_type": "code",
      "metadata": {
        "colab": {
          "base_uri": "https://localhost:8080/",
          "height": 133
        },
        "id": "tXs6UKfetflM",
        "outputId": "012ff464-a0a8-4e01-fda6-3a24bb633113"
      },
      "source": [
        "print_digits(digits.images, digits.target)"
      ],
      "execution_count": 29,
      "outputs": [
        {
          "output_type": "display_data",
          "data": {
            "image/png": "[encoded data removed]",
            "text/plain": [
              "<Figure size 1152x1152 with 10 Axes>"
            ]
          },
          "metadata": {}
        }
      ]
    },
    {
      "cell_type": "code",
      "metadata": {
        "id": "ox1loK2Zt_oo"
      },
      "source": [
        "# Train Test split\n",
        "from sklearn.model_selection import train_test_split\n",
        "\n",
        "X_train, X_test, y_train, y_test, img_train, img_test = train_test_split(digits.data, digits.target, digits.images.reshape(-1, 64), test_size=0.2, random_state=2021)"
      ],
      "execution_count": 38,
      "outputs": []
    },
    {
      "cell_type": "code",
      "metadata": {
        "colab": {
          "base_uri": "https://localhost:8080/",
          "height": 1000
        },
        "id": "jGGh7pLpxW16",
        "outputId": "7a0d6259-6c7c-47d2-9076-87f1802ba135"
      },
      "source": [
        "# Now let's reshape the images back as 2d-arrays\n",
        "img_test = img_test.reshape(-1, 8, 8)\n",
        "img_train = img_test.reshape(-1, 8, 8)\n",
        "# To make sure that the reshape operation is successful\n",
        "for i in range(5):\n",
        "  plt.imshow(img_train[i], cmap=\"bone\")\n",
        "  plt.show()"
      ],
      "execution_count": 43,
      "outputs": [
        {
          "output_type": "display_data",
          "data": {
            "image/png": "[encoded data removed]",
            "text/plain": [
              "<Figure size 432x288 with 1 Axes>"
            ]
          },
          "metadata": {
            "needs_background": "light"
          }
        },
        {
          "output_type": "display_data",
          "data": {
            "image/png": "[encoded data removed]",
            "text/plain": [
              "<Figure size 432x288 with 1 Axes>"
            ]
          },
          "metadata": {
            "needs_background": "light"
          }
        },
        {
          "output_type": "display_data",
          "data": {
            "image/png": "[encoded data removed]",
            "text/plain": [
              "<Figure size 432x288 with 1 Axes>"
            ]
          },
          "metadata": {
            "needs_background": "light"
          }
        },
        {
          "output_type": "display_data",
          "data": {
            "image/png": "[encoded data removed]",
            "text/plain": [
              "<Figure size 432x288 with 1 Axes>"
            ]
          },
          "metadata": {
            "needs_background": "light"
          }
        },
        {
          "output_type": "display_data",
          "data": {
            "image/png": "[encoded data removed]",
            "text/plain": [
              "<Figure size 432x288 with 1 Axes>"
            ]
          },
          "metadata": {
            "needs_background": "light"
          }
        }
      ]
    }
  ]
}